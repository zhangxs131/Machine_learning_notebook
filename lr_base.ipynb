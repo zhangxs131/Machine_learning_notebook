{
  "nbformat": 4,
  "nbformat_minor": 0,
  "metadata": {
    "colab": {
      "name": "lr_base.ipynb",
      "provenance": [],
      "authorship_tag": "ABX9TyMoy3FCtUU7d0aROyOejNVh",
      "include_colab_link": true
    },
    "kernelspec": {
      "name": "python3",
      "display_name": "Python 3"
    },
    "language_info": {
      "name": "python"
    }
  },
  "cells": [
    {
      "cell_type": "markdown",
      "metadata": {
        "id": "view-in-github",
        "colab_type": "text"
      },
      "source": [
        "<a href=\"https://colab.research.google.com/github/zhangxs131/Machine_learning_notebook/blob/main/lr_base.ipynb\" target=\"_parent\"><img src=\"https://colab.research.google.com/assets/colab-badge.svg\" alt=\"Open In Colab\"/></a>"
      ]
    },
    {
      "cell_type": "markdown",
      "source": [
        "#Logistic Regressing\n",
        "\n",
        "逻辑回归\n",
        "\n",
        "就是初步的MLP，使用sigmoid作为激活函数的二分类\n",
        "\n",
        "计算loss，然后梯度上升进行修改weight，最后达到近似最优解的weight。"
      ],
      "metadata": {
        "id": "Ejl8CR9hGsZ_"
      }
    },
    {
      "cell_type": "code",
      "execution_count": 1,
      "metadata": {
        "colab": {
          "base_uri": "https://localhost:8080/"
        },
        "id": "FKgYLbZtGoEx",
        "outputId": "06d07b16-1d15-4847-b530-1c247acea652"
      },
      "outputs": [
        {
          "output_type": "stream",
          "name": "stdout",
          "text": [
            "--2022-04-29 02:41:33--  https://raw.githubusercontent.com/Jack-Cherish/Machine-Learning/master/Logistic/testSet.txt\n",
            "Resolving raw.githubusercontent.com (raw.githubusercontent.com)... 185.199.108.133, 185.199.109.133, 185.199.110.133, ...\n",
            "Connecting to raw.githubusercontent.com (raw.githubusercontent.com)|185.199.108.133|:443... connected.\n",
            "HTTP request sent, awaiting response... 200 OK\n",
            "Length: 2087 (2.0K) [text/plain]\n",
            "Saving to: ‘testSet.txt’\n",
            "\n",
            "testSet.txt         100%[===================>]   2.04K  --.-KB/s    in 0s      \n",
            "\n",
            "2022-04-29 02:41:33 (14.9 MB/s) - ‘testSet.txt’ saved [2087/2087]\n",
            "\n"
          ]
        }
      ],
      "source": [
        "#获取数据集\n",
        "!wget https://raw.githubusercontent.com/Jack-Cherish/Machine-Learning/master/Logistic/testSet.txt"
      ]
    },
    {
      "cell_type": "code",
      "source": [
        "#处理数据\n",
        "import numpy as np\n",
        "\n",
        "\n",
        "def get_matrix(file_name):\n",
        "  with open(file_name,'r') as f:\n",
        "    content=f.readlines()\n",
        "\n",
        "  label=[]\n",
        "  data=np.zeros((len(content),3))\n",
        "  for id,i in enumerate(content):\n",
        "    t=i.strip().split('\\t')\n",
        "    data[id]=[1.0]+[float(j) for j in t[:-1]]  \n",
        "    label.append(float(t[-1]))\n",
        "  return data,label\n",
        "\n"
      ],
      "metadata": {
        "id": "t8z3968LHJSF"
      },
      "execution_count": 25,
      "outputs": []
    },
    {
      "cell_type": "code",
      "source": [
        "import matplotlib.pyplot as plt\n",
        "\n",
        "def sigmoid(x):\n",
        "  return 1.0/(1+np.exp(-x))\n",
        "\n",
        "#梯度上升算法\n",
        "def gradAscent(data,label):\n",
        "  data=np.mat(data)\n",
        "  label=np.mat(label).transpose()\n",
        "\n",
        "  m,n=data.shape\n",
        "  alpha=0.001\n",
        "  max_cycle=500\n",
        "  w=np.ones((n,1))  #参数初始化 b,w1,w2\n",
        "\n",
        "  for i in range(max_cycle):\n",
        "    h=sigmoid(data*w)\n",
        "    loss=label-h\n",
        "    w=w+alpha*data.transpose()*loss\n",
        "  return w.getA()\n",
        "\n",
        "def plot_best(data,label,weights):\n",
        "  n=data.shape[0]\n",
        "  data=np.array(data)\n",
        "  xcord1=[]\n",
        "  ycord1=[]\n",
        "  xcord2=[]\n",
        "  ycord2=[]\n",
        "  for i in range(n):\n",
        "    if int(label[i])==1:\n",
        "      xcord1.append(data[i,1])\n",
        "      ycord1.append(data[i,2])\n",
        "    else:\n",
        "      xcord2.append(data[i,1])\n",
        "      ycord2.append(data[i,2])\n",
        "  fig=plt.figure()\n",
        "  plt.scatter(xcord1,ycord1,s=20,c='red',marker='s',alpha=.5)\n",
        "  plt.scatter(xcord2,ycord2,s=20,c='green',alpha=.5)\n",
        "\n",
        "  x=np.arange(-3.0,3.0,0.1)\n",
        "  y=(-weights[0]-weights[1]*x)/weights[2] #根据b,w1,w2求直线 w2y+w1x+b=0 \n",
        "  plt.plot(x,y)\n",
        "  plt.title('BestFit')\n",
        "  plt.show()\n",
        "\n",
        "data,label=get_matrix('testSet.txt')\n",
        "w=gradAscent(data,label)\n",
        "print(w)\n",
        "plot_best(data,label,w)"
      ],
      "metadata": {
        "colab": {
          "base_uri": "https://localhost:8080/",
          "height": 333
        },
        "id": "KIiyZG-4Jo4V",
        "outputId": "3d40d1d9-500a-4c81-b39d-f5031672d45a"
      },
      "execution_count": 31,
      "outputs": [
        {
          "output_type": "stream",
          "name": "stdout",
          "text": [
            "[[ 4.12414349]\n",
            " [ 0.48007329]\n",
            " [-0.6168482 ]]\n"
          ]
        },
        {
          "output_type": "display_data",
          "data": {
            "text/plain": [
              "<Figure size 432x288 with 1 Axes>"
            ],
            "image/png": "[encoded data removed]"
          },
          "metadata": {
            "needs_background": "light"
          }
        }
      ]
    }
  ]
}