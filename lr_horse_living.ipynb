{
  "nbformat": 4,
  "nbformat_minor": 0,
  "metadata": {
    "colab": {
      "name": "lr_horse_living.ipynb",
      "provenance": [],
      "authorship_tag": "ABX9TyOY1tziafnb73ptMmMCF0KO",
      "include_colab_link": true
    },
    "kernelspec": {
      "name": "python3",
      "display_name": "Python 3"
    },
    "language_info": {
      "name": "python"
    }
  },
  "cells": [
    {
      "cell_type": "markdown",
      "metadata": {
        "id": "view-in-github",
        "colab_type": "text"
      },
      "source": [
        "<a href=\"https://colab.research.google.com/github/zhangxs131/Machine_learning_notebook/blob/main/lr_horse_living.ipynb\" target=\"_parent\"><img src=\"https://colab.research.google.com/assets/colab-badge.svg\" alt=\"Open In Colab\"/></a>"
      ]
    },
    {
      "cell_type": "markdown",
      "source": [
        "##lr 逻辑回归实战\n",
        "\n",
        "本次实战内容，将使用Logistic回归来预测患疝气病的马的存活问题。\n",
        "\n",
        "数据集包含了369个样本（样本数很少）28个特征（特征数很多）最后判断病马是否能存活\n",
        "\n",
        "原始数据集下载地址：http://archive.ics.uci.edu/ml/datasets/Horse+Colic\n",
        "\n",
        "原始数据中有很多缺失值，对缺失值进行处理后得到可用数据集\n"
      ],
      "metadata": {
        "id": "Xtdun5B9A5AW"
      }
    },
    {
      "cell_type": "code",
      "execution_count": 3,
      "metadata": {
        "colab": {
          "base_uri": "https://localhost:8080/"
        },
        "id": "ywMZQ2ZFAzj_",
        "outputId": "5b09fdce-4742-4790-bbe8-f33cf2cf1398"
      },
      "outputs": [
        {
          "output_type": "stream",
          "name": "stdout",
          "text": [
            "--2022-04-30 06:08:38--  https://raw.githubusercontent.com/Jack-Cherish/Machine-Learning/master/Logistic/horseColicTraining.txt\n",
            "Resolving raw.githubusercontent.com (raw.githubusercontent.com)... 185.199.108.133, 185.199.110.133, 185.199.111.133, ...\n",
            "Connecting to raw.githubusercontent.com (raw.githubusercontent.com)|185.199.108.133|:443... connected.\n",
            "HTTP request sent, awaiting response... 200 OK\n",
            "Length: 60357 (59K) [text/plain]\n",
            "Saving to: ‘horseColicTraining.txt’\n",
            "\n",
            "\rhorseColicTraining.   0%[                    ]       0  --.-KB/s               \rhorseColicTraining. 100%[===================>]  58.94K  --.-KB/s    in 0.01s   \n",
            "\n",
            "2022-04-30 06:08:38 (5.01 MB/s) - ‘horseColicTraining.txt’ saved [60357/60357]\n",
            "\n",
            "--2022-04-30 06:08:38--  https://raw.githubusercontent.com/Jack-Cherish/Machine-Learning/master/Logistic/horseColicTest.txt\n",
            "Resolving raw.githubusercontent.com (raw.githubusercontent.com)... 185.199.108.133, 185.199.111.133, 185.199.110.133, ...\n",
            "Connecting to raw.githubusercontent.com (raw.githubusercontent.com)|185.199.108.133|:443... connected.\n",
            "HTTP request sent, awaiting response... 200 OK\n",
            "Length: 3722 (3.6K) [text/plain]\n",
            "Saving to: ‘horseColicTest.txt’\n",
            "\n",
            "horseColicTest.txt  100%[===================>]   3.63K  --.-KB/s    in 0s      \n",
            "\n",
            "2022-04-30 06:08:38 (42.4 MB/s) - ‘horseColicTest.txt’ saved [3722/3722]\n",
            "\n"
          ]
        }
      ],
      "source": [
        "#获取缺失值处理后的数据集\n",
        "\n",
        "!wget https://raw.githubusercontent.com/Jack-Cherish/Machine-Learning/master/Logistic/horseColicTraining.txt\n",
        "!wget https://raw.githubusercontent.com/Jack-Cherish/Machine-Learning/master/Logistic/horseColicTest.txt"
      ]
    },
    {
      "cell_type": "code",
      "source": [
        "#使用改进梯度上升lr算法 随机sample和调整学习率\n",
        "\n",
        "from os import error\n",
        "#使用numpy进行lr测试\n",
        "\n",
        "import numpy as np\n",
        "import random\n",
        "\n",
        "def sigmoid(x):\n",
        "  return 1.0/(1+np.exp(-x))\n",
        "\n",
        "#改进梯度上升算法\n",
        "\n",
        "def GradAscent(data,labels,num_iter=150):\n",
        "  m,n=data.shape\n",
        "  w=np.ones(n)\n",
        "  for j in range(num_iter):\n",
        "    dataIndex=list(range(m))\n",
        "    for i in range(m):\n",
        "      alpha=3/(1.0+j+i)+0.01  #逐渐衰减的学习率\n",
        "      randIndex=int(random.uniform(0,len(dataIndex)))  #随机取样\n",
        "      h=sigmoid(sum(data[dataIndex[randIndex]]*w))\n",
        "      loss=labels[dataIndex[randIndex]]-h\n",
        "      w=w+alpha*loss*data[dataIndex[randIndex]]\n",
        "      del(dataIndex[randIndex])\n",
        "  return w\n",
        "\n",
        "def classifyVector(x,weights):\n",
        "  prob=sigmoid(sum(x*weights))\n",
        "  if prob>0.5:\n",
        "    return 1.0\n",
        "  else:\n",
        "    return 0.0\n",
        "\n",
        "\n",
        "\n",
        "def colTest(train_file,test_file):\n",
        "  #读取train.txt\n",
        "  with open(train_file,'r') as f:\n",
        "    content=f.readlines()\n",
        "  data=[]\n",
        "  label=[]\n",
        "  for i in content:\n",
        "    t=i.strip().split('\\t')\n",
        "    data.append([float(j) for j in t[:-1]])\n",
        "    label.append(float(t[-1]))\n",
        "  weight=GradAscent(np.array(data),label,500)\n",
        "  errorCount=0.0\n",
        "  with open(test_file,'r') as f:\n",
        "    content=f.readlines()\n",
        "  nums_test=len(content)\n",
        "  for i in content:\n",
        "    t=i.strip().split('\\t')\n",
        "    test_x=[float(j) for j in t[:-1]]\n",
        "    if int(classifyVector(np.array(test_x),weight))!=int(t[-1]):\n",
        "      errorCount+=1\n",
        "  error_rate=float(errorCount)/nums_test\n",
        "  print('错误率为:{:.2f}%'.format(error_rate*100))\n",
        "\n",
        "\n",
        "colTest('horseColicTraining.txt','horseColicTest.txt')"
      ],
      "metadata": {
        "colab": {
          "base_uri": "https://localhost:8080/"
        },
        "id": "UPEDfLi4BnWL",
        "outputId": "8916811c-2941-413d-d997-178367d2603b"
      },
      "execution_count": 13,
      "outputs": [
        {
          "output_type": "stream",
          "name": "stderr",
          "text": [
            "/usr/local/lib/python3.7/dist-packages/ipykernel_launcher.py:8: RuntimeWarning: overflow encountered in exp\n",
            "  \n"
          ]
        },
        {
          "output_type": "stream",
          "name": "stdout",
          "text": [
            "错误率为:32.84%\n"
          ]
        }
      ]
    },
    {
      "cell_type": "code",
      "source": [
        "#使用普通梯度上升算法\n",
        "def gradAscent(dataMatIn, classLabels,num_iter=150):\n",
        "    dataMatrix = np.mat(dataMatIn)                                        #转换成numpy的mat\n",
        "    labelMat = np.mat(classLabels).transpose()                            #转换成numpy的mat,并进行转置\n",
        "    m, n = np.shape(dataMatrix)                                            #返回dataMatrix的大小。m为行数,n为列数。\n",
        "    alpha = 0.01                                                        #移动步长,也就是学习速率,控制更新的幅度。                                                       #最大迭代次数\n",
        "    weights = np.ones((n,1))\n",
        "    for k in range(num_iter):\n",
        "        h = sigmoid(dataMatrix * weights)                                #梯度上升矢量化公式\n",
        "        error = labelMat - h\n",
        "        weights = weights + alpha * dataMatrix.transpose() * error\n",
        "    return weights                                               #将矩阵转换为数组，并返回\n",
        " \n",
        " \n",
        "def colTest(train_file,test_file):\n",
        "  #读取train.txt\n",
        "  with open(train_file,'r') as f:\n",
        "    content=f.readlines()\n",
        "  data=[]\n",
        "  label=[]\n",
        "  for i in content:\n",
        "    t=i.strip().split('\\t')\n",
        "    data.append([float(j) for j in t[:-1]])\n",
        "    label.append(float(t[-1]))\n",
        "  weight=gradAscent(np.array(data),label,500)\n",
        "  errorCount=0.0\n",
        "  with open(test_file,'r') as f:\n",
        "    content=f.readlines()\n",
        "  nums_test=len(content)\n",
        "  for i in content:\n",
        "    t=i.strip().split('\\t')\n",
        "    test_x=[float(j) for j in t[:-1]]\n",
        "    if int(classifyVector(np.array(test_x),weight))!=int(t[-1]):\n",
        "      errorCount+=1\n",
        "  error_rate=float(errorCount)/nums_test\n",
        "  print('错误率为:{:.2f}%'.format(error_rate*100))\n",
        "\n",
        "\n",
        "colTest('horseColicTraining.txt','horseColicTest.txt')"
      ],
      "metadata": {
        "colab": {
          "base_uri": "https://localhost:8080/"
        },
        "id": "8EhkQHXjDOVz",
        "outputId": "3595c280-8ac3-4925-d8a8-1f029e9026fc"
      },
      "execution_count": 19,
      "outputs": [
        {
          "output_type": "stream",
          "name": "stdout",
          "text": [
            "错误率为:28.36%\n"
          ]
        },
        {
          "output_type": "stream",
          "name": "stderr",
          "text": [
            "/usr/local/lib/python3.7/dist-packages/ipykernel_launcher.py:8: RuntimeWarning: overflow encountered in exp\n",
            "  \n"
          ]
        }
      ]
    },
    {
      "cell_type": "markdown",
      "source": [
        "#sklearn 进行lr算法\n",
        "\n",
        "sklearn.linear_model \n",
        "\n",
        "*    penalty 惩罚项 L1,L2正则化\n",
        "*    class_weight 表示标示分类各类型的权重"
      ],
      "metadata": {
        "id": "4mO0MpBVHzE3"
      }
    },
    {
      "cell_type": "code",
      "source": [
        "from sklearn.linear_model import LogisticRegression\n",
        "\n",
        "def colSklearn(train_file,test_file):\n",
        "  #读取数据\n",
        "  with open(train_file,'r') as f:\n",
        "    content=f.readlines()\n",
        "  data=[]\n",
        "  label=[]\n",
        "  for i in content:\n",
        "    t=i.strip().split('\\t')\n",
        "    data.append([float(j) for j in t[:-1]])\n",
        "    label.append(float(t[-1]))\n",
        "  with open(test_file,'r') as f:\n",
        "    content=f.readlines()\n",
        "  test_data=[]\n",
        "  test_label=[]\n",
        "  for i in content:\n",
        "    t=i.strip().split('\\t')\n",
        "    test_data.append([float(j) for j in t[:-1]])\n",
        "    test_label.append(float(t[-1]))\n",
        "\n",
        "  #定义LR分类器\n",
        "  #classifier=LogisticRegression(solver='liblinear',max_iter=100)\n",
        "  classifier=LogisticRegression(solver='sag',max_iter=5000)\n",
        "  classifier.fit(data,label)\n",
        "\n",
        "  test_acc=classifier.score(test_data,test_label)\n",
        "  print('正确率为{:.3f}%'.format(test_acc*100))\n",
        "\n",
        "colSklearn('horseColicTraining.txt','horseColicTest.txt')"
      ],
      "metadata": {
        "colab": {
          "base_uri": "https://localhost:8080/"
        },
        "id": "EJ9H7RVCLEH_",
        "outputId": "045ff7b9-2bd3-468e-ffe7-c4506b1cdd7a"
      },
      "execution_count": 25,
      "outputs": [
        {
          "output_type": "stream",
          "name": "stdout",
          "text": [
            "正确率为73.134%\n"
          ]
        }
      ]
    },
    {
      "cell_type": "markdown",
      "source": [
        "lr分类器，就是拟合函数，进行二分类，最后通过sigmoid激活，简单易懂，但效果一般"
      ],
      "metadata": {
        "id": "tjGxKNXkMlI2"
      }
    }
  ]
}