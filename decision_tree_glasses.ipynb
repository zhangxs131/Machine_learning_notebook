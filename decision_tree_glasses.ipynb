{
  "nbformat": 4,
  "nbformat_minor": 0,
  "metadata": {
    "colab": {
      "name": "decision_tree_glasses.ipynb",
      "provenance": [],
      "authorship_tag": "ABX9TyP9L/TBU/i9WRB/qwi0bAm9",
      "include_colab_link": true
    },
    "kernelspec": {
      "name": "python3",
      "display_name": "Python 3"
    },
    "language_info": {
      "name": "python"
    }
  },
  "cells": [
    {
      "cell_type": "markdown",
      "metadata": {
        "id": "view-in-github",
        "colab_type": "text"
      },
      "source": [
        "<a href=\"https://colab.research.google.com/github/zhangxs131/Machine_learning_notebook/blob/main/decision_tree_glasses.ipynb\" target=\"_parent\"><img src=\"https://colab.research.google.com/assets/colab-badge.svg\" alt=\"Open In Colab\"/></a>"
      ]
    },
    {
      "cell_type": "markdown",
      "source": [
        "#使用决策树，完成分类任务\n",
        "\n",
        "任务：根据不同人特征（年龄，症状，眼泪，散光）选择合适隐形眼镜类别\n",
        "\n",
        "使用sklearn实现\n",
        "\n",
        "DecisionTreeClassifier 参数\n",
        "*     criterion  特征选择标准 gini ，entropy ID3使用entropy，CART使用gini\n",
        "*     splitter   可选参数，best,random, best适合样本数量小，而random适合样本数量多\n",
        "*     max_features 最大特征数 ，考虑结构时使用最多的特征个数，防止决策树过大\n",
        "*     max_depth   最大深度，防止决策树过深\n",
        "*     class_weight  类别权重，防止某类训练集过多，导致过于偏向这些类别。"
      ],
      "metadata": {
        "id": "7MFsuIiTBS59"
      }
    },
    {
      "cell_type": "code",
      "execution_count": 1,
      "metadata": {
        "colab": {
          "base_uri": "https://localhost:8080/"
        },
        "id": "wwxlLa_PBOju",
        "outputId": "759c40ff-a5ab-466f-db6b-7b1aed5adc9d"
      },
      "outputs": [
        {
          "output_type": "stream",
          "name": "stdout",
          "text": [
            "--2022-04-28 12:25:26--  https://raw.githubusercontent.com/Jack-Cherish/Machine-Learning/master/Decision%20Tree/lenses.txt\n",
            "Resolving raw.githubusercontent.com (raw.githubusercontent.com)... 185.199.108.133, 185.199.109.133, 185.199.110.133, ...\n",
            "Connecting to raw.githubusercontent.com (raw.githubusercontent.com)|185.199.108.133|:443... connected.\n",
            "HTTP request sent, awaiting response... 200 OK\n",
            "Length: 771 [text/plain]\n",
            "Saving to: ‘lenses.txt’\n",
            "\n",
            "lenses.txt          100%[===================>]     771  --.-KB/s    in 0s      \n",
            "\n",
            "2022-04-28 12:25:26 (28.1 MB/s) - ‘lenses.txt’ saved [771/771]\n",
            "\n"
          ]
        }
      ],
      "source": [
        "#下载数据集\n",
        "\n",
        "!wget https://raw.githubusercontent.com/Jack-Cherish/Machine-Learning/master/Decision%20Tree/lenses.txt"
      ]
    },
    {
      "cell_type": "code",
      "source": [
        "import pandas as pd\n",
        "from sklearn.preprocessing import LabelEncoder\n",
        "from sklearn.tree import DecisionTreeClassifier\n",
        "\n",
        "def get_clf(file_name):\n",
        "  with open(file_name,'r') as f:\n",
        "    content=f.readlines()\n",
        "\n",
        "  labels=[]\n",
        "  column_name=['age','prescript','astigamtic','tearRate']\n",
        "  data={}\n",
        "\n",
        "  for j in range(len(column_name)):\n",
        "    data[column_name[j]]=[]\n",
        "\n",
        "  for i in content:\n",
        "    t=i.strip().split('\\t')\n",
        "    labels.append(t[-1])\n",
        "    for j in range(len(column_name)):\n",
        "      data[column_name[j]].append(t[j])\n",
        "  data_df=pd.DataFrame(data)\n",
        "\n",
        "  #标签进行encoder\n",
        "  le=LabelEncoder()\n",
        "  for col in data_df.columns:\n",
        "    data_df[col]=le.fit_transform(data_df[col])\n",
        "\n",
        "  clf=DecisionTreeClassifier(max_depth=4)\n",
        "  clf.fit(data_df.values.tolist(),labels)\n",
        "\n",
        "  return clf\n",
        "\n",
        "clf=get_clf('lenses.txt')\n",
        "\n",
        "result=clf.predict([[1,1,1,0]])\n",
        "\n",
        "print('你需要的隐形眼镜类型为：{}'.format(result[0]))"
      ],
      "metadata": {
        "colab": {
          "base_uri": "https://localhost:8080/"
        },
        "id": "-gfm4fFDCwiS",
        "outputId": "d66e06cb-0054-4742-9c74-f269541da51f"
      },
      "execution_count": 4,
      "outputs": [
        {
          "output_type": "stream",
          "name": "stdout",
          "text": [
            "你需要的隐形眼镜类型为：hard\n"
          ]
        }
      ]
    },
    {
      "cell_type": "code",
      "source": [
        "!head -10 lenses.txt"
      ],
      "metadata": {
        "colab": {
          "base_uri": "https://localhost:8080/"
        },
        "id": "JnX8mHt7JDPW",
        "outputId": "4e800fe7-3bf1-426e-86bf-3ca8b167b783"
      },
      "execution_count": 5,
      "outputs": [
        {
          "output_type": "stream",
          "name": "stdout",
          "text": [
            "young\tmyope\tno\treduced\tno lenses\n",
            "young\tmyope\tno\tnormal\tsoft\n",
            "young\tmyope\tyes\treduced\tno lenses\n",
            "young\tmyope\tyes\tnormal\thard\n",
            "young\thyper\tno\treduced\tno lenses\n",
            "young\thyper\tno\tnormal\tsoft\n",
            "young\thyper\tyes\treduced\tno lenses\n",
            "young\thyper\tyes\tnormal\thard\n",
            "pre\tmyope\tno\treduced\tno lenses\n",
            "pre\tmyope\tno\tnormal\tsoft\n"
          ]
        }
      ]
    },
    {
      "cell_type": "markdown",
      "source": [
        "决策树分类，主要适合用于特征离散的数据，需要将数据转为编码然后进行fit，label可以不用转为编码。这里没有进行决策树的可视化，由于无法展示pdf。"
      ],
      "metadata": {
        "id": "KOAhs9N7JL8r"
      }
    }
  ]
}