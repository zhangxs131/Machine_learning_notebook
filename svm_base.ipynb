{
  "nbformat": 4,
  "nbformat_minor": 0,
  "metadata": {
    "colab": {
      "name": "svm_base.ipynb",
      "provenance": [],
      "authorship_tag": "ABX9TyMXo61vsRDWwkf9gUpK2VBr",
      "include_colab_link": true
    },
    "kernelspec": {
      "name": "python3",
      "display_name": "Python 3"
    },
    "language_info": {
      "name": "python"
    }
  },
  "cells": [
    {
      "cell_type": "markdown",
      "metadata": {
        "id": "view-in-github",
        "colab_type": "text"
      },
      "source": [
        "<a href=\"https://colab.research.google.com/github/zhangxs131/Machine_learning_notebook/blob/main/svm_base.ipynb\" target=\"_parent\"><img src=\"https://colab.research.google.com/assets/colab-badge.svg\" alt=\"Open In Colab\"/></a>"
      ]
    },
    {
      "cell_type": "markdown",
      "source": [
        "# SVM支持向量机分类\n",
        "\n",
        "SVM就是先将低维数据通过适合核函数转为高维数据，然后找到一个分类超平面，将两类数据分隔到两侧，将问题转为求分类超平面方程问题，即带有约束条件的最优解问题，然后通过拉格朗日函数转为一个函数，进行求导，求解。"
      ],
      "metadata": {
        "id": "q8UmP1VzXR4T"
      }
    },
    {
      "cell_type": "code",
      "execution_count": 1,
      "metadata": {
        "colab": {
          "base_uri": "https://localhost:8080/"
        },
        "id": "cTw_5L30M57j",
        "outputId": "12016947-6261-4e7e-ceab-3a269a7fb7e2"
      },
      "outputs": [
        {
          "output_type": "stream",
          "name": "stdout",
          "text": [
            "--2022-04-30 07:36:22--  https://raw.githubusercontent.com/Jack-Cherish/Machine-Learning/master/SVM/testSet.txt\n",
            "Resolving raw.githubusercontent.com (raw.githubusercontent.com)... 185.199.108.133, 185.199.109.133, 185.199.110.133, ...\n",
            "Connecting to raw.githubusercontent.com (raw.githubusercontent.com)|185.199.108.133|:443... connected.\n",
            "HTTP request sent, awaiting response... 200 OK\n",
            "Length: 2108 (2.1K) [text/plain]\n",
            "Saving to: ‘testSet.txt’\n",
            "\n",
            "\rtestSet.txt           0%[                    ]       0  --.-KB/s               \rtestSet.txt         100%[===================>]   2.06K  --.-KB/s    in 0s      \n",
            "\n",
            "2022-04-30 07:36:22 (31.0 MB/s) - ‘testSet.txt’ saved [2108/2108]\n",
            "\n"
          ]
        }
      ],
      "source": [
        "#下载一个test-data\n",
        "!wget https://raw.githubusercontent.com/Jack-Cherish/Machine-Learning/master/SVM/testSet.txt"
      ]
    },
    {
      "cell_type": "code",
      "source": [
        "import numpy as np\n",
        "import matplotlib.pyplot as plt\n",
        "\n",
        "#数据可视化\n",
        "def show_data(data,label):\n",
        "  data_1=[]\n",
        "  data_2=[]\n",
        "  for i in range(len(label)):\n",
        "    if label[i]>0:\n",
        "      data_1.append(data[i])\n",
        "    else:\n",
        "      data_2.append(data[i])\n",
        "  data_1=np.array(data_1)\n",
        "  data_2=np.array(data_2)\n",
        "\n",
        "  plt.figure()\n",
        "  plt.scatter(np.transpose(data_1)[0],np.transpose(data_1)[1])\n",
        "  plt.scatter(np.transpose(data_2)[0],np.transpose(data_2)[1])\n",
        "  plt.show()\n",
        "\n",
        "def load_data(file_name):\n",
        "  with open(file_name,'r') as f:\n",
        "    content=f.readlines()\n",
        "\n",
        "  data=[]\n",
        "  label=[ ]\n",
        "  for i in content:\n",
        "    t=i.strip().split('\\t')\n",
        "    data.append([float(j) for j in t[:-1]])\n",
        "    label.append(float(t[-1]))\n",
        "  return data,label\n",
        "\n",
        "data,label=load_data('testSet.txt')\n",
        "show_data(data,label)"
      ],
      "metadata": {
        "colab": {
          "base_uri": "https://localhost:8080/",
          "height": 264
        },
        "id": "UOsZuhpKYEXV",
        "outputId": "01d2e070-7959-43fe-cf57-22089cf69010"
      },
      "execution_count": 4,
      "outputs": [
        {
          "output_type": "display_data",
          "data": {
            "text/plain": [
              "<Figure size 432x288 with 1 Axes>"
            ],
            "image/png": "[encoded data removed]"
          },
          "metadata": {
            "needs_background": "light"
          }
        }
      ]
    },
    {
      "cell_type": "markdown",
      "source": [
        "##手写简化版SMO算法\n",
        "\n",
        "即通过将一个大型优化问题，转换为多个小的优化问题来解决。"
      ],
      "metadata": {
        "id": "AsiS8agFZzzT"
      }
    },
    {
      "cell_type": "code",
      "source": [
        "from time import sleep\n",
        "import random\n",
        "import types\n",
        "\n",
        "#从0-m中选择一个不等于i的j值\n",
        "def selectJrand(i,m):\n",
        "  j=i\n",
        "  while j==i:\n",
        "    j=int(random.uniform(0,m))\n",
        "  return j\n",
        "\n",
        "#裁剪alpha,设置阈值\n",
        "def clipAlpha(a,H,L):\n",
        "  if a>H:\n",
        "    return H\n",
        "  elif L>a:\n",
        "    return L\n",
        "  else:\n",
        "    return a\n",
        "\n",
        "#简化版smo算法\n",
        "def smoSimple(dataMatIn, classLabels, C, toler, maxIter):\n",
        "    #转换为numpy的mat存储\n",
        "    dataMatrix = np.mat(dataMatIn); labelMat = np.mat(classLabels).transpose()\n",
        "    #初始化b参数，统计dataMatrix的维度\n",
        "    b = 0; m,n = np.shape(dataMatrix)\n",
        "    #初始化alpha参数，设为0\n",
        "    alphas = np.mat(np.zeros((m,1)))\n",
        "    #初始化迭代次数\n",
        "    iter_num = 0\n",
        "    #最多迭代matIter次\n",
        "    while (iter_num < maxIter):\n",
        "        alphaPairsChanged = 0\n",
        "        for i in range(m):\n",
        "            #步骤1：计算误差Ei\n",
        "            fXi = float(np.multiply(alphas,labelMat).T*(dataMatrix*dataMatrix[i,:].T)) + b\n",
        "            Ei = fXi - float(labelMat[i])\n",
        "            #优化alpha，更设定一定的容错率。\n",
        "            if ((labelMat[i]*Ei < -toler) and (alphas[i] < C)) or ((labelMat[i]*Ei > toler) and (alphas[i] > 0)):\n",
        "                #随机选择另一个与alpha_i成对优化的alpha_j\n",
        "                j = selectJrand(i,m)\n",
        "                #步骤1：计算误差Ej\n",
        "                fXj = float(np.multiply(alphas,labelMat).T*(dataMatrix*dataMatrix[j,:].T)) + b\n",
        "                Ej = fXj - float(labelMat[j])\n",
        "                #保存更新前的aplpha值，使用深拷贝\n",
        "                alphaIold = alphas[i].copy(); alphaJold = alphas[j].copy();\n",
        "                #步骤2：计算上下界L和H\n",
        "                if (labelMat[i] != labelMat[j]):\n",
        "                    L = max(0, alphas[j] - alphas[i])\n",
        "                    H = min(C, C + alphas[j] - alphas[i])\n",
        "                else:\n",
        "                    L = max(0, alphas[j] + alphas[i] - C)\n",
        "                    H = min(C, alphas[j] + alphas[i])\n",
        "                #if L==H: print(\"L==H\"); continue\n",
        "                #步骤3：计算eta\n",
        "                eta = 2.0 * dataMatrix[i,:]*dataMatrix[j,:].T - dataMatrix[i,:]*dataMatrix[i,:].T - dataMatrix[j,:]*dataMatrix[j,:].T\n",
        "                #if eta >= 0: print(\"eta>=0\"); continue\n",
        "                #步骤4：更新alpha_j\n",
        "                alphas[j] -= labelMat[j]*(Ei - Ej)/eta\n",
        "                #步骤5：修剪alpha_j\n",
        "                alphas[j] = clipAlpha(alphas[j],H,L)\n",
        "                # if (abs(alphas[j] - alphaJold) < 0.00001): print(\"alpha_j变化太小\"); continue\n",
        "                #步骤6：更新alpha_i\n",
        "                alphas[i] += labelMat[j]*labelMat[i]*(alphaJold - alphas[j])\n",
        "                #步骤7：更新b_1和b_2\n",
        "                b1 = b - Ei- labelMat[i]*(alphas[i]-alphaIold)*dataMatrix[i,:]*dataMatrix[i,:].T - labelMat[j]*(alphas[j]-alphaJold)*dataMatrix[i,:]*dataMatrix[j,:].T\n",
        "                b2 = b - Ej- labelMat[i]*(alphas[i]-alphaIold)*dataMatrix[i,:]*dataMatrix[j,:].T - labelMat[j]*(alphas[j]-alphaJold)*dataMatrix[j,:]*dataMatrix[j,:].T\n",
        "                #步骤8：根据b_1和b_2更新b\n",
        "                if (0 < alphas[i]) and (C > alphas[i]): b = b1\n",
        "                elif (0 < alphas[j]) and (C > alphas[j]): b = b2\n",
        "                else: b = (b1 + b2)/2.0\n",
        "                #统计优化次数\n",
        "                alphaPairsChanged += 1\n",
        "                #打印统计信息\n",
        "                #print(\"第%d次迭代 样本:%d, alpha优化次数:%d\" % (iter_num,i,alphaPairsChanged))\n",
        "        #更新迭代次数\n",
        "        if (alphaPairsChanged == 0): iter_num += 1\n",
        "        else: iter_num = 0\n",
        "        #print(\"迭代次数: %d\" % iter_num)\n",
        "    return b,alphas\n",
        "\n",
        "\n",
        "def showClassifer(dataMat,labelMat, w, b):\n",
        "    #绘制样本点\n",
        "    data_plus = []                                  #正样本\n",
        "    data_minus = []                                 #负样本\n",
        "    for i in range(len(dataMat)):\n",
        "        if labelMat[i] > 0:\n",
        "            data_plus.append(dataMat[i])\n",
        "        else:\n",
        "            data_minus.append(dataMat[i])\n",
        "    data_plus_np = np.array(data_plus)              #转换为numpy矩阵\n",
        "    data_minus_np = np.array(data_minus)            #转换为numpy矩阵\n",
        "    plt.scatter(np.transpose(data_plus_np)[0], np.transpose(data_plus_np)[1], s=30, alpha=0.7)   #正样本散点图\n",
        "    plt.scatter(np.transpose(data_minus_np)[0], np.transpose(data_minus_np)[1], s=30, alpha=0.7) #负样本散点图\n",
        "    #绘制直线\n",
        "    x1 = max(dataMat)[0]\n",
        "    x2 = min(dataMat)[0]\n",
        "    a1, a2 = w\n",
        "    b = float(b)\n",
        "    a1 = float(a1[0])\n",
        "    a2 = float(a2[0])\n",
        "    y1, y2 = (-b- a1*x1)/a2, (-b - a1*x2)/a2\n",
        "    plt.plot([x1, x2], [y1, y2])\n",
        "    #找出支持向量点\n",
        "    for i, alpha in enumerate(alphas):\n",
        "        if alpha > 0:\n",
        "            x, y = dataMat[i]\n",
        "            plt.scatter([x], [y], s=150, c='none', alpha=0.7, linewidth=1.5, edgecolor='red')\n",
        "    plt.show()\n",
        "\n",
        "def get_w(dataMat, labelMat, alphas):\n",
        "    alphas, dataMat, labelMat = np.array(alphas), np.array(dataMat), np.array(labelMat)\n",
        "    w = np.dot((np.tile(labelMat.reshape(1, -1).T, (1, 2)) * dataMat).T, alphas)\n",
        "    return w.tolist()\n",
        "\n",
        "b,alphas = smoSimple(data,label, 0.6, 0.001, 40)\n",
        "w = get_w(data, label, alphas)\n",
        "showClassifer(data,label, w, b)"
      ],
      "metadata": {
        "colab": {
          "base_uri": "https://localhost:8080/",
          "height": 264
        },
        "id": "iUK-pCU_ZyNV",
        "outputId": "ee9809e7-ce81-4994-ed91-a5cbbd30086d"
      },
      "execution_count": 11,
      "outputs": [
        {
          "output_type": "display_data",
          "data": {
            "text/plain": [
              "<Figure size 432x288 with 1 Axes>"
            ],
            "image/png": "[encoded data removed]"
          },
          "metadata": {
            "needs_background": "light"
          }
        }
      ]
    }
  ]
}